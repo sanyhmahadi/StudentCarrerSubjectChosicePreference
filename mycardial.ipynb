{
  "nbformat": 4,
  "nbformat_minor": 0,
  "metadata": {
    "colab": {
      "name": "mycardial.ipynb",
      "provenance": [],
      "collapsed_sections": [],
      "include_colab_link": true
    },
    "kernelspec": {
      "name": "python3",
      "display_name": "Python 3"
    },
    "language_info": {
      "name": "python"
    }
  },
  "cells": [
    {
      "cell_type": "markdown",
      "metadata": {
        "id": "view-in-github",
        "colab_type": "text"
      },
      "source": [
        "<a href=\"https://colab.research.google.com/github/sanyhmahadi/StudentCarrerSubjectChosicePreference/blob/main/mycardial.ipynb\" target=\"_parent\"><img src=\"https://colab.research.google.com/assets/colab-badge.svg\" alt=\"Open In Colab\"/></a>"
      ]
    },
    {
      "cell_type": "code",
      "metadata": {
        "colab": {
          "base_uri": "https://localhost:8080/"
        },
        "id": "a7Lp-wMdZlTL",
        "outputId": "15560b64-d1a2-4d64-ddf4-415492e8950a"
      },
      "source": [
        "from google.colab import drive\n",
        "drive.mount('/content/drive')"
      ],
      "execution_count": null,
      "outputs": [
        {
          "output_type": "stream",
          "name": "stdout",
          "text": [
            "Mounted at /content/drive\n"
          ]
        }
      ]
    },
    {
      "cell_type": "code",
      "metadata": {
        "id": "g8Ti-E4zZ3rG"
      },
      "source": [
        "import pandas as pd\n",
        "import numpy as np\n",
        "import matplotlib.pyplot as plt\n",
        "from sklearn.model_selection import train_test_split\n",
        "import seaborn as sns\n",
        "from sklearn.ensemble import BaggingClassifier\n",
        "from sklearn.tree import DecisionTreeClassifier\n",
        "from sklearn.svm import SVC\n",
        "from sklearn.neighbors import KNeighborsClassifier\n",
        "from sklearn.naive_bayes import GaussianNB\n",
        "from sklearn.ensemble import RandomForestClassifier\n",
        "from sklearn.neural_network import MLPClassifier\n",
        "from sklearn.ensemble import AdaBoostClassifier\n",
        "\n",
        "from sklearn.ensemble import ExtraTreesClassifier"
      ],
      "execution_count": null,
      "outputs": []
    },
    {
      "cell_type": "code",
      "metadata": {
        "id": "auDXa1IfaF9n",
        "colab": {
          "base_uri": "https://localhost:8080/",
          "height": 296
        },
        "outputId": "bdaa590b-8c52-4c30-a4f8-23edd2af5562"
      },
      "source": [
        "#url = '/content/drive/MyDrive/Myocardial infarction/myocardial.csv'\n",
        "#url = '/content/drive/MyDrive/Myocardial infarction/myocardial_imp.csv'\n",
        "#df = pd.read_csv(url)\n",
        "df = pd.read_excel('/content/drive/MyDrive/Research/ML/Others Data/StudentSubjectChoose.xlsx')\n",
        "df.head()\n"
      ],
      "execution_count": null,
      "outputs": [
        {
          "output_type": "execute_result",
          "data": {
            "text/html": [
              "<div>\n",
              "<style scoped>\n",
              "    .dataframe tbody tr th:only-of-type {\n",
              "        vertical-align: middle;\n",
              "    }\n",
              "\n",
              "    .dataframe tbody tr th {\n",
              "        vertical-align: top;\n",
              "    }\n",
              "\n",
              "    .dataframe thead th {\n",
              "        text-align: right;\n",
              "    }\n",
              "</style>\n",
              "<table border=\"1\" class=\"dataframe\">\n",
              "  <thead>\n",
              "    <tr style=\"text-align: right;\">\n",
              "      <th></th>\n",
              "      <th>pref_group</th>\n",
              "      <th>roll_class8</th>\n",
              "      <th>hobby</th>\n",
              "      <th>fav_indoor_game</th>\n",
              "      <th>play_time_class8</th>\n",
              "      <th>study_time_class8</th>\n",
              "      <th>ans_method</th>\n",
              "      <th>fav_subj_class8</th>\n",
              "      <th>co_curricular</th>\n",
              "      <th>attendence_class8</th>\n",
              "      <th>feared_subj_class8</th>\n",
              "      <th>group</th>\n",
              "    </tr>\n",
              "  </thead>\n",
              "  <tbody>\n",
              "    <tr>\n",
              "      <th>0</th>\n",
              "      <td>science</td>\n",
              "      <td>2021-11-20 00:00:00</td>\n",
              "      <td>collecting_things</td>\n",
              "      <td>carom</td>\n",
              "      <td>2021-02-03 00:00:00</td>\n",
              "      <td>2021-04-06 00:00:00</td>\n",
              "      <td>making_answers_on_your_own_knowledge</td>\n",
              "      <td>science</td>\n",
              "      <td>science_club</td>\n",
              "      <td>60-80\\%'</td>\n",
              "      <td>math</td>\n",
              "      <td>science</td>\n",
              "    </tr>\n",
              "    <tr>\n",
              "      <th>1</th>\n",
              "      <td>science</td>\n",
              "      <td>2021-01-10 00:00:00</td>\n",
              "      <td>reading_books</td>\n",
              "      <td>ludo</td>\n",
              "      <td>2021-02-03 00:00:00</td>\n",
              "      <td>2021-04-06 00:00:00</td>\n",
              "      <td>memorising_answers</td>\n",
              "      <td>bengali/english</td>\n",
              "      <td>science_club</td>\n",
              "      <td>80\\%'</td>\n",
              "      <td>math</td>\n",
              "      <td>science</td>\n",
              "    </tr>\n",
              "    <tr>\n",
              "      <th>2</th>\n",
              "      <td>commerce</td>\n",
              "      <td>21-30</td>\n",
              "      <td>drawing</td>\n",
              "      <td>carom</td>\n",
              "      <td>above</td>\n",
              "      <td>2021-06-08 00:00:00</td>\n",
              "      <td>memorising_answers</td>\n",
              "      <td>bengali/english</td>\n",
              "      <td>others</td>\n",
              "      <td>80\\%'</td>\n",
              "      <td>math</td>\n",
              "      <td>science</td>\n",
              "    </tr>\n",
              "    <tr>\n",
              "      <th>3</th>\n",
              "      <td>science</td>\n",
              "      <td>21-30</td>\n",
              "      <td>drawing</td>\n",
              "      <td>carom</td>\n",
              "      <td>2021-01-02 00:00:00</td>\n",
              "      <td>2021-06-08 00:00:00</td>\n",
              "      <td>making_answers_on_your_own_knowledge</td>\n",
              "      <td>math</td>\n",
              "      <td>science_club</td>\n",
              "      <td>80\\%'</td>\n",
              "      <td>math</td>\n",
              "      <td>science</td>\n",
              "    </tr>\n",
              "    <tr>\n",
              "      <th>4</th>\n",
              "      <td>science</td>\n",
              "      <td>2021-01-10 00:00:00</td>\n",
              "      <td>drawing</td>\n",
              "      <td>ludo</td>\n",
              "      <td>2021-01-02 00:00:00</td>\n",
              "      <td>2021-02-04 00:00:00</td>\n",
              "      <td>making_answers_on_your_own_knowledge</td>\n",
              "      <td>math</td>\n",
              "      <td>cultural_club</td>\n",
              "      <td>80\\%'</td>\n",
              "      <td>science</td>\n",
              "      <td>science</td>\n",
              "    </tr>\n",
              "  </tbody>\n",
              "</table>\n",
              "</div>"
            ],
            "text/plain": [
              "  pref_group          roll_class8  ... feared_subj_class8    group\n",
              "0    science  2021-11-20 00:00:00  ...               math  science\n",
              "1    science  2021-01-10 00:00:00  ...               math  science\n",
              "2   commerce                21-30  ...               math  science\n",
              "3    science                21-30  ...               math  science\n",
              "4    science  2021-01-10 00:00:00  ...            science  science\n",
              "\n",
              "[5 rows x 12 columns]"
            ]
          },
          "metadata": {},
          "execution_count": 5
        }
      ]
    },
    {
      "cell_type": "code",
      "metadata": {
        "colab": {
          "base_uri": "https://localhost:8080/",
          "height": 204
        },
        "id": "o3VjlGvBcoJX",
        "outputId": "149ae230-ab20-4ab8-a23d-dc547313612f"
      },
      "source": [
        "X = df.drop(['Class'], axis='columns')\n",
        "X.head()"
      ],
      "execution_count": null,
      "outputs": [
        {
          "output_type": "execute_result",
          "data": {
            "text/html": [
              "<div>\n",
              "<style scoped>\n",
              "    .dataframe tbody tr th:only-of-type {\n",
              "        vertical-align: middle;\n",
              "    }\n",
              "\n",
              "    .dataframe tbody tr th {\n",
              "        vertical-align: top;\n",
              "    }\n",
              "\n",
              "    .dataframe thead th {\n",
              "        text-align: right;\n",
              "    }\n",
              "</style>\n",
              "<table border=\"1\" class=\"dataframe\">\n",
              "  <thead>\n",
              "    <tr style=\"text-align: right;\">\n",
              "      <th></th>\n",
              "      <th>Age</th>\n",
              "      <th>Hypertension</th>\n",
              "      <th>Diabetes</th>\n",
              "      <th>Cholesterol</th>\n",
              "      <th>Chest_Pain_Location</th>\n",
              "      <th>Chest_Pain_Mark</th>\n",
              "    </tr>\n",
              "  </thead>\n",
              "  <tbody>\n",
              "    <tr>\n",
              "      <th>0</th>\n",
              "      <td>23</td>\n",
              "      <td>0</td>\n",
              "      <td>0</td>\n",
              "      <td>0</td>\n",
              "      <td>1</td>\n",
              "      <td>0</td>\n",
              "    </tr>\n",
              "    <tr>\n",
              "      <th>1</th>\n",
              "      <td>23</td>\n",
              "      <td>0</td>\n",
              "      <td>0</td>\n",
              "      <td>0</td>\n",
              "      <td>1</td>\n",
              "      <td>0</td>\n",
              "    </tr>\n",
              "    <tr>\n",
              "      <th>2</th>\n",
              "      <td>24</td>\n",
              "      <td>1</td>\n",
              "      <td>0</td>\n",
              "      <td>0</td>\n",
              "      <td>3</td>\n",
              "      <td>0</td>\n",
              "    </tr>\n",
              "    <tr>\n",
              "      <th>3</th>\n",
              "      <td>23</td>\n",
              "      <td>1</td>\n",
              "      <td>1</td>\n",
              "      <td>1</td>\n",
              "      <td>0</td>\n",
              "      <td>1</td>\n",
              "    </tr>\n",
              "    <tr>\n",
              "      <th>4</th>\n",
              "      <td>22</td>\n",
              "      <td>0</td>\n",
              "      <td>0</td>\n",
              "      <td>0</td>\n",
              "      <td>3</td>\n",
              "      <td>1</td>\n",
              "    </tr>\n",
              "  </tbody>\n",
              "</table>\n",
              "</div>"
            ],
            "text/plain": [
              "   Age  Hypertension  ...  Chest_Pain_Location  Chest_Pain_Mark\n",
              "0   23             0  ...                    1                0\n",
              "1   23             0  ...                    1                0\n",
              "2   24             1  ...                    3                0\n",
              "3   23             1  ...                    0                1\n",
              "4   22             0  ...                    3                1\n",
              "\n",
              "[5 rows x 6 columns]"
            ]
          },
          "metadata": {
            "tags": []
          },
          "execution_count": 135
        }
      ]
    },
    {
      "cell_type": "code",
      "metadata": {
        "id": "lYm3P_rUcvPa"
      },
      "source": [
        "y = df.Class"
      ],
      "execution_count": null,
      "outputs": []
    },
    {
      "cell_type": "code",
      "metadata": {
        "id": "IfhI_jQnwRQu"
      },
      "source": [
        "#FEATURE IMPORTANCE SCORE USING EXTRA TREES ALGORITHM\n",
        "\n",
        "# Building the model\n",
        "extra_tree_forest = ExtraTreesClassifier(n_estimators = 100,\n",
        "                                        criterion ='entropy', random_state=1 )\n",
        "# Training the model\n",
        "extra_tree_forest.fit(X, y)\n",
        "  \n",
        "# Computing the importance of each feature\n",
        "feature_importance = extra_tree_forest.feature_importances_\n",
        "  \n",
        "# Normalizing the individual importances\n",
        "feature_importance_normalized = np.std([tree.feature_importances_ for tree in \n",
        "                                        extra_tree_forest.estimators_],\n",
        "                                        axis = 0)\n",
        "# Plotting a Bar Graph to compare the models\n",
        "\n",
        "fig = plt.figure(figsize=(5,6)) \n",
        "#plt.bar(X.columns, feature_importance_normalized)\n",
        "plt.barh(X.columns, feature_importance_normalized)\n",
        "plt.xlabel('Feature Labels')\n",
        "plt.ylabel('Feature Importances')\n",
        "plt.title('Comparison of different Feature Importances')\n",
        "plt.show()"
      ],
      "execution_count": null,
      "outputs": []
    },
    {
      "cell_type": "code",
      "metadata": {
        "id": "3WfARU57cy2y"
      },
      "source": [
        "X_train, X_test, y_train, y_test = train_test_split(X, y, test_size=0.3)"
      ],
      "execution_count": null,
      "outputs": []
    },
    {
      "cell_type": "code",
      "metadata": {
        "colab": {
          "base_uri": "https://localhost:8080/"
        },
        "id": "lH1B6XcIc12S",
        "outputId": "634414bb-4dd1-4d8c-977b-be74437ba95f"
      },
      "source": [
        "print(len(X_train))\n",
        "print(len(X_test))"
      ],
      "execution_count": null,
      "outputs": [
        {
          "output_type": "stream",
          "text": [
            "193\n",
            "84\n"
          ],
          "name": "stdout"
        }
      ]
    },
    {
      "cell_type": "code",
      "metadata": {
        "id": "sFdpnLqbc9ni"
      },
      "source": [
        "model = SVC(kernel='linear')"
      ],
      "execution_count": null,
      "outputs": []
    },
    {
      "cell_type": "code",
      "metadata": {
        "id": "3NzGd6xlyHTX"
      },
      "source": [
        "model = KNeighborsClassifier(n_neighbors=5)"
      ],
      "execution_count": null,
      "outputs": []
    },
    {
      "cell_type": "code",
      "metadata": {
        "id": "i-r1Qe1kyOai"
      },
      "source": [
        "model = GaussianNB()"
      ],
      "execution_count": null,
      "outputs": []
    },
    {
      "cell_type": "code",
      "metadata": {
        "id": "pbW5BmCfyaVw"
      },
      "source": [
        "model = DecisionTreeClassifier()"
      ],
      "execution_count": null,
      "outputs": []
    },
    {
      "cell_type": "code",
      "metadata": {
        "id": "baOMxJjjyv-8"
      },
      "source": [
        "model = RandomForestClassifier(n_estimators=100, random_state=1)"
      ],
      "execution_count": null,
      "outputs": []
    },
    {
      "cell_type": "code",
      "metadata": {
        "id": "1-LAYQbvppOe"
      },
      "source": [
        "#model = MLPClassifier(solver='lbfgs', alpha=1e-5,hidden_layer_sizes=(5,2), random_state=1)"
      ],
      "execution_count": null,
      "outputs": []
    },
    {
      "cell_type": "code",
      "metadata": {
        "id": "JtSEJuj7sAEI"
      },
      "source": [
        "#Adaboost with different base Classifiers\n",
        "#model = AdaBoostClassifier(SVC(kernel='linear'),n_estimators=100,learning_rate=1.0, algorithm='SAMME')\n",
        "#model = AdaBoostClassifier(RandomForestClassifier(n_estimators=100, random_state=1),n_estimators=100,learning_rate=1.0, algorithm='SAMME')\n",
        "model = AdaBoostClassifier(KNeighborsClassifier(n_neighbors=5),n_estimators=100,learning_rate=1.0, algorithm='SAMME')\n",
        "#model = AdaBoostClassifier(GaussianNB(),n_estimators=100,learning_rate=1.0, algorithm='SAMME')\n",
        "#model = AdaBoostClassifier(DecisionTreeClassifier(),n_estimators=100,learning_rate=1.0, algorithm='SAMME')"
      ],
      "execution_count": null,
      "outputs": []
    },
    {
      "cell_type": "code",
      "metadata": {
        "id": "bFPKZ2Y7w-Zy"
      },
      "source": [
        "#Bagging with different base Classifiers\n",
        "# Instantiate dt\n",
        "#dt = SVC(kernel='linear')\n",
        "#dt = KNeighborsClassifier(n_neighbors=5)\n",
        "#dt = GaussianNB()\n",
        "#dt = DecisionTreeClassifier(random_state=1)\n",
        "#dt = RandomForestClassifier(n_estimators=100, random_state=1)\n",
        "\n",
        "# Instantiate model\n",
        "model = BaggingClassifier(base_estimator=dt, n_estimators=100, random_state=1)"
      ],
      "execution_count": null,
      "outputs": []
    },
    {
      "cell_type": "code",
      "metadata": {
        "id": "lGGV1LY-dL37"
      },
      "source": [
        "model.fit(X_train, y_train)"
      ],
      "execution_count": null,
      "outputs": []
    },
    {
      "cell_type": "code",
      "metadata": {
        "colab": {
          "base_uri": "https://localhost:8080/"
        },
        "id": "5_KLtEz4lmXv",
        "outputId": "19d8b13c-5b66-4545-bb35-3dea9c1928a4"
      },
      "source": [
        "predictions = model.predict(X_test)\n",
        "print(predictions)"
      ],
      "execution_count": null,
      "outputs": [
        {
          "output_type": "stream",
          "text": [
            "[1 0 0 0 1 0 0 0 0 0 1 1 0 1 0 0 0 0 1 0 0 0 0 1 0 1 0 1 1 0 1 0 1 1 1 0 0\n",
            " 0 0 1 0 1 0 0 1 0 1 0 1 1 1 0 0 0 1 0 1 1 0 1 0 0 1 0 1 1 0 1 0 1 0 0 1 0\n",
            " 1 1 1 0 0 1 1 1 0 1]\n"
          ],
          "name": "stdout"
        }
      ]
    },
    {
      "cell_type": "code",
      "metadata": {
        "id": "422gfW2-l8Er"
      },
      "source": [
        "percentage = model.score(X_test, y_test)"
      ],
      "execution_count": null,
      "outputs": []
    },
    {
      "cell_type": "code",
      "metadata": {
        "colab": {
          "base_uri": "https://localhost:8080/"
        },
        "id": "Df127e3bmAhp",
        "outputId": "084785da-b9d2-42c5-9bc0-42da49a9da4d"
      },
      "source": [
        "from sklearn.metrics import confusion_matrix\n",
        "from sklearn.metrics import precision_score\n",
        "from sklearn.metrics import recall_score\n",
        "from sklearn.metrics import f1_score\n",
        "from sklearn.metrics import cohen_kappa_score\n",
        "from sklearn.metrics import roc_auc_score\n",
        "\n",
        "res = confusion_matrix(y_test, predictions)\n",
        "print(\"Confusion Matrix\")\n",
        "print(res)\n",
        "print(f\"Test Set: {len(X_test)}\")\n",
        "print(f\"Accuracy = {percentage*100} %\")\n",
        "\n",
        "# precision tp / (tp + fp)\n",
        "precision = precision_score(y_test, predictions)\n",
        "print('Precision: %f' % precision)\n",
        "\n",
        "# recall: tp / (tp + fn)\n",
        "recall = recall_score(y_test, predictions)\n",
        "print('Recall: %f' % recall)\n",
        "\n",
        "# f1: 2 tp / (2 tp + fp + fn)\n",
        "f1 = f1_score(y_test, predictions)\n",
        "print('F1 score: %f' % f1)\n",
        "\n",
        "# kappa\n",
        "kappa = cohen_kappa_score(y_test, predictions)\n",
        "print('Cohens kappa: %f' % kappa)\n",
        "\n",
        "# ROC AUC\n",
        "auc = roc_auc_score(y_test, predictions)\n",
        "print('ROC AUC: %f' % auc)"
      ],
      "execution_count": null,
      "outputs": [
        {
          "output_type": "stream",
          "text": [
            "Confusion Matrix\n",
            "[[43  6]\n",
            " [ 3 32]]\n",
            "Test Set: 84\n",
            "Accuracy = 89.28571428571429 %\n",
            "Precision: 0.842105\n",
            "Recall: 0.914286\n",
            "F1 score: 0.876712\n",
            "Cohens kappa: 0.782258\n",
            "ROC AUC: 0.895918\n"
          ],
          "name": "stdout"
        }
      ]
    },
    {
      "cell_type": "code",
      "metadata": {
        "colab": {
          "base_uri": "https://localhost:8080/",
          "height": 279
        },
        "id": "s774teSDs8Nq",
        "outputId": "de54c961-f234-4e07-f0af-bed8f08472b7"
      },
      "source": [
        "from sklearn import metrics\n",
        "metrics.plot_roc_curve(model, X_test, y_test)  \n",
        "plt.show()  "
      ],
      "execution_count": null,
      "outputs": [
        {
          "output_type": "display_data",
          "data": {
            "image/png": "[encoded data removed]",
            "text/plain": [
              "<Figure size 432x288 with 1 Axes>"
            ]
          },
          "metadata": {
            "tags": [],
            "needs_background": "light"
          }
        }
      ]
    },
    {
      "cell_type": "code",
      "metadata": {
        "colab": {
          "base_uri": "https://localhost:8080/",
          "height": 675
        },
        "id": "_5SnB2Krmbfv",
        "outputId": "fe9dc957-b8f2-4afd-a33e-e3b1d2a4f16e"
      },
      "source": [
        "from sklearn.metrics import plot_confusion_matrix\n",
        "\n",
        "titles_options = [(\"Confusion matrix, without normalization\", None),\n",
        "                  (\"Normalized confusion matrix\", 'true')]\n",
        "for title, normalize in titles_options:\n",
        "    disp = plot_confusion_matrix(model, X_test, y_test,\n",
        "                                 display_labels='class',\n",
        "                                 cmap=plt.cm.Blues,\n",
        "                                 normalize=normalize)\n",
        "    disp.ax_.set_title(title)\n",
        "\n",
        "    print(title)\n",
        "    print(disp.confusion_matrix)\n",
        "\n",
        "plt.show()"
      ],
      "execution_count": null,
      "outputs": [
        {
          "output_type": "stream",
          "text": [
            "Confusion matrix, without normalization\n",
            "[[39  6]\n",
            " [ 6 33]]\n",
            "Normalized confusion matrix\n",
            "[[0.86666667 0.13333333]\n",
            " [0.15384615 0.84615385]]\n"
          ],
          "name": "stdout"
        },
        {
          "output_type": "display_data",
          "data": {
            "image/png": "[encoded data removed]",
            "text/plain": [
              "<Figure size 432x288 with 2 Axes>"
            ]
          },
          "metadata": {
            "tags": [],
            "needs_background": "light"
          }
        },
        {
          "output_type": "display_data",
          "data": {
            "image/png": "[encoded data removed]",
            "text/plain": [
              "<Figure size 432x288 with 2 Axes>"
            ]
          },
          "metadata": {
            "tags": [],
            "needs_background": "light"
          }
        }
      ]
    },
    {
      "cell_type": "code",
      "metadata": {
        "colab": {
          "base_uri": "https://localhost:8080/",
          "height": 285
        },
        "id": "3LcYHvUrvRK0",
        "outputId": "1a5b2e11-0b37-426f-f895-4fa54f4b8774"
      },
      "source": [
        "from sklearn.model_selection import validation_curve\n",
        "param_range = np.logspace(-6, -1, 5)\n",
        "train_scores, test_scores = validation_curve(\n",
        "    SVC(), X, y, param_name=\"gamma\", param_range=param_range,\n",
        "    scoring=\"accuracy\", n_jobs=1)\n",
        "train_scores_mean = np.mean(train_scores, axis=1)\n",
        "train_scores_std = np.std(train_scores, axis=1)\n",
        "test_scores_mean = np.mean(test_scores, axis=1)\n",
        "test_scores_std = np.std(test_scores, axis=1)\n",
        "\n",
        "#plt.title(\"Validation Curve with SVM\")\n",
        "plt.xlabel(r\"$\\gamma$\")\n",
        "plt.ylabel(\"Score\")\n",
        "plt.ylim(0.0, 1.1)\n",
        "lw = 2\n",
        "plt.semilogx(param_range, train_scores_mean, label=\"Training score\",\n",
        "             color=\"darkorange\", lw=lw)\n",
        "plt.fill_between(param_range, train_scores_mean - train_scores_std,\n",
        "                 train_scores_mean + train_scores_std, alpha=0.2,\n",
        "                 color=\"darkorange\", lw=lw)\n",
        "plt.semilogx(param_range, test_scores_mean, label=\"Cross-validation score\",\n",
        "             color=\"navy\", lw=lw)\n",
        "plt.fill_between(param_range, test_scores_mean - test_scores_std,\n",
        "                 test_scores_mean + test_scores_std, alpha=0.2,\n",
        "                 color=\"navy\", lw=lw)\n",
        "plt.legend(loc=\"best\")\n",
        "plt.show()"
      ],
      "execution_count": null,
      "outputs": [
        {
          "output_type": "display_data",
          "data": {
            "image/png": "[encoded data removed]",
            "text/plain": [
              "<Figure size 432x288 with 1 Axes>"
            ]
          },
          "metadata": {
            "tags": [],
            "needs_background": "light"
          }
        }
      ]
    }
  ]
}